{
 "cells": [
  {
   "cell_type": "markdown",
   "metadata": {},
   "source": [
    "# WorldCat Identities"
   ]
  },
  {
   "cell_type": "markdown",
   "metadata": {},
   "source": [
    "## Getting ready\n",
    "### Import libraries\n"
   ]
  },
  {
   "cell_type": "code",
   "execution_count": 1,
   "metadata": {},
   "outputs": [],
   "source": [
    "import pandas\n",
    "import worldcatidentities\n",
    "import matplotlib.pyplot as plt\n",
    "\n",
    "from ipywidgets import interact, fixed, widgets"
   ]
  },
  {
   "cell_type": "markdown",
   "metadata": {},
   "source": [
    "### Import local functions"
   ]
  },
  {
   "cell_type": "code",
   "execution_count": 2,
   "metadata": {},
   "outputs": [],
   "source": [
    "import download_names as dn\n",
    "import download_uris as du"
   ]
  },
  {
   "cell_type": "markdown",
   "metadata": {},
   "source": [
    "### First download\n",
    "First we tried to automate the process of retrieving data from the WorldCat Identities API. However, the data downloaded required extensive review."
   ]
  },
  {
   "cell_type": "code",
   "execution_count": 3,
   "metadata": {},
   "outputs": [],
   "source": [
    "#dn.download_names('authors.txt')"
   ]
  },
  {
   "cell_type": "markdown",
   "metadata": {},
   "source": [
    "### Second download\n",
    "We manually reviewed each of the records obtained for each author, verifying that they were correct. In case of detecting more than one, these were included.\n",
    "\n",
    "#### Load reviewed data from first download\n",
    "Due to duplication by some authors, a total of 591 entries have been generated out of the 398 EC3's Scholar Mirror. There are 114 authors with more than one record."
   ]
  },
  {
   "cell_type": "code",
   "execution_count": 4,
   "metadata": {},
   "outputs": [
    {
     "data": {
      "text/html": [
       "<div>\n",
       "<style scoped>\n",
       "    .dataframe tbody tr th:only-of-type {\n",
       "        vertical-align: middle;\n",
       "    }\n",
       "\n",
       "    .dataframe tbody tr th {\n",
       "        vertical-align: top;\n",
       "    }\n",
       "\n",
       "    .dataframe thead th {\n",
       "        text-align: right;\n",
       "    }\n",
       "</style>\n",
       "<table border=\"1\" class=\"dataframe\">\n",
       "  <thead>\n",
       "    <tr style=\"text-align: right;\">\n",
       "      <th></th>\n",
       "      <th>author</th>\n",
       "      <th>identity</th>\n",
       "      <th>work_count</th>\n",
       "      <th>record_count</th>\n",
       "      <th>languages</th>\n",
       "      <th>total_holdings</th>\n",
       "      <th>author_id</th>\n",
       "      <th>source</th>\n",
       "      <th>duplicated</th>\n",
       "    </tr>\n",
       "  </thead>\n",
       "  <tbody>\n",
       "    <tr>\n",
       "      <th>0</th>\n",
       "      <td>Loet Leydesdorff</td>\n",
       "      <td>Leydesdorff, L. A.</td>\n",
       "      <td>64.0</td>\n",
       "      <td>190.0</td>\n",
       "      <td>5.0</td>\n",
       "      <td>1.232</td>\n",
       "      <td>lccn-n80112847</td>\n",
       "      <td>API</td>\n",
       "      <td>True</td>\n",
       "    </tr>\n",
       "    <tr>\n",
       "      <th>1</th>\n",
       "      <td>Loet Leydesdorff</td>\n",
       "      <td>Lydsdorff, Loet</td>\n",
       "      <td>1.0</td>\n",
       "      <td>2.0</td>\n",
       "      <td>1.0</td>\n",
       "      <td>2.000</td>\n",
       "      <td>np-lydsdorff,%20loet</td>\n",
       "      <td>Web</td>\n",
       "      <td>True</td>\n",
       "    </tr>\n",
       "    <tr>\n",
       "      <th>2</th>\n",
       "      <td>Eugene Garfield*</td>\n",
       "      <td>Garfield, Eugene</td>\n",
       "      <td>147.0</td>\n",
       "      <td>447.0</td>\n",
       "      <td>5.0</td>\n",
       "      <td>3.399</td>\n",
       "      <td>lccn-n79061047</td>\n",
       "      <td>API</td>\n",
       "      <td>True</td>\n",
       "    </tr>\n",
       "    <tr>\n",
       "      <th>3</th>\n",
       "      <td>Eugene Garfield*</td>\n",
       "      <td>Garfield, Eugen</td>\n",
       "      <td>1.0</td>\n",
       "      <td>1.0</td>\n",
       "      <td>1.0</td>\n",
       "      <td>0.000</td>\n",
       "      <td>np-garfield,%20eugen</td>\n",
       "      <td>Web</td>\n",
       "      <td>True</td>\n",
       "    </tr>\n",
       "    <tr>\n",
       "      <th>4</th>\n",
       "      <td>Mike Thelwall</td>\n",
       "      <td>Thelwall, Mike</td>\n",
       "      <td>49.0</td>\n",
       "      <td>118.0</td>\n",
       "      <td>4.0</td>\n",
       "      <td>1.161</td>\n",
       "      <td>lccn-no2005014137</td>\n",
       "      <td>API</td>\n",
       "      <td>True</td>\n",
       "    </tr>\n",
       "  </tbody>\n",
       "</table>\n",
       "</div>"
      ],
      "text/plain": [
       "             author            identity  work_count  record_count  languages  \\\n",
       "0  Loet Leydesdorff  Leydesdorff, L. A.        64.0         190.0        5.0   \n",
       "1  Loet Leydesdorff     Lydsdorff, Loet         1.0           2.0        1.0   \n",
       "2  Eugene Garfield*    Garfield, Eugene       147.0         447.0        5.0   \n",
       "3  Eugene Garfield*     Garfield, Eugen         1.0           1.0        1.0   \n",
       "4     Mike Thelwall      Thelwall, Mike        49.0         118.0        4.0   \n",
       "\n",
       "   total_holdings             author_id source duplicated  \n",
       "0           1.232        lccn-n80112847    API       True  \n",
       "1           2.000  np-lydsdorff,%20loet    Web       True  \n",
       "2           3.399        lccn-n79061047    API       True  \n",
       "3           0.000  np-garfield,%20eugen    Web       True  \n",
       "4           1.161     lccn-no2005014137    API       True  "
      ]
     },
     "execution_count": 4,
     "metadata": {},
     "output_type": "execute_result"
    }
   ],
   "source": [
    "fixed_authors = pandas.read_csv('data/Fixed_Authors.tsv',\n",
    "                               sep = '\\t',\n",
    "                               na_values = 'NA',\n",
    "                               header = 0)\n",
    "fixed_authors.head()"
   ]
  },
  {
   "cell_type": "code",
   "execution_count": 5,
   "metadata": {},
   "outputs": [
    {
     "name": "stdout",
     "output_type": "stream",
     "text": [
      "<class 'pandas.core.frame.DataFrame'>\n",
      "RangeIndex: 591 entries, 0 to 590\n",
      "Data columns (total 9 columns):\n",
      "author            591 non-null object\n",
      "identity          463 non-null object\n",
      "work_count        463 non-null float64\n",
      "record_count      463 non-null float64\n",
      "languages         463 non-null float64\n",
      "total_holdings    463 non-null float64\n",
      "author_id         463 non-null object\n",
      "source            463 non-null object\n",
      "duplicated        463 non-null object\n",
      "dtypes: float64(4), object(5)\n",
      "memory usage: 41.7+ KB\n"
     ]
    }
   ],
   "source": [
    "fixed_authors.info()"
   ]
  },
  {
   "cell_type": "code",
   "execution_count": 6,
   "metadata": {},
   "outputs": [
    {
     "data": {
      "text/html": [
       "<div>\n",
       "<style scoped>\n",
       "    .dataframe tbody tr th:only-of-type {\n",
       "        vertical-align: middle;\n",
       "    }\n",
       "\n",
       "    .dataframe tbody tr th {\n",
       "        vertical-align: top;\n",
       "    }\n",
       "\n",
       "    .dataframe thead th {\n",
       "        text-align: right;\n",
       "    }\n",
       "</style>\n",
       "<table border=\"1\" class=\"dataframe\">\n",
       "  <thead>\n",
       "    <tr style=\"text-align: right;\">\n",
       "      <th></th>\n",
       "      <th>author</th>\n",
       "      <th>identity</th>\n",
       "      <th>work_count</th>\n",
       "      <th>record_count</th>\n",
       "      <th>languages</th>\n",
       "      <th>total_holdings</th>\n",
       "      <th>author_id</th>\n",
       "      <th>source</th>\n",
       "      <th>duplicated</th>\n",
       "    </tr>\n",
       "  </thead>\n",
       "  <tbody>\n",
       "    <tr>\n",
       "      <th>count</th>\n",
       "      <td>591</td>\n",
       "      <td>463</td>\n",
       "      <td>463.000000</td>\n",
       "      <td>463.000000</td>\n",
       "      <td>463.000000</td>\n",
       "      <td>463.000000</td>\n",
       "      <td>463</td>\n",
       "      <td>463</td>\n",
       "      <td>463</td>\n",
       "    </tr>\n",
       "    <tr>\n",
       "      <th>unique</th>\n",
       "      <td>398</td>\n",
       "      <td>427</td>\n",
       "      <td>NaN</td>\n",
       "      <td>NaN</td>\n",
       "      <td>NaN</td>\n",
       "      <td>NaN</td>\n",
       "      <td>461</td>\n",
       "      <td>2</td>\n",
       "      <td>2</td>\n",
       "    </tr>\n",
       "    <tr>\n",
       "      <th>top</th>\n",
       "      <td>Paul Wouters</td>\n",
       "      <td>Wouters, Paul</td>\n",
       "      <td>NaN</td>\n",
       "      <td>NaN</td>\n",
       "      <td>NaN</td>\n",
       "      <td>NaN</td>\n",
       "      <td>np-khaparde,%20vaishali</td>\n",
       "      <td>Web</td>\n",
       "      <td>True</td>\n",
       "    </tr>\n",
       "    <tr>\n",
       "      <th>freq</th>\n",
       "      <td>11</td>\n",
       "      <td>7</td>\n",
       "      <td>NaN</td>\n",
       "      <td>NaN</td>\n",
       "      <td>NaN</td>\n",
       "      <td>NaN</td>\n",
       "      <td>2</td>\n",
       "      <td>242</td>\n",
       "      <td>305</td>\n",
       "    </tr>\n",
       "    <tr>\n",
       "      <th>mean</th>\n",
       "      <td>NaN</td>\n",
       "      <td>NaN</td>\n",
       "      <td>12.827214</td>\n",
       "      <td>25.863562</td>\n",
       "      <td>1.602592</td>\n",
       "      <td>68.199927</td>\n",
       "      <td>NaN</td>\n",
       "      <td>NaN</td>\n",
       "      <td>NaN</td>\n",
       "    </tr>\n",
       "    <tr>\n",
       "      <th>std</th>\n",
       "      <td>NaN</td>\n",
       "      <td>NaN</td>\n",
       "      <td>40.242290</td>\n",
       "      <td>58.767806</td>\n",
       "      <td>1.125152</td>\n",
       "      <td>166.065061</td>\n",
       "      <td>NaN</td>\n",
       "      <td>NaN</td>\n",
       "      <td>NaN</td>\n",
       "    </tr>\n",
       "    <tr>\n",
       "      <th>min</th>\n",
       "      <td>NaN</td>\n",
       "      <td>NaN</td>\n",
       "      <td>1.000000</td>\n",
       "      <td>1.000000</td>\n",
       "      <td>0.000000</td>\n",
       "      <td>0.000000</td>\n",
       "      <td>NaN</td>\n",
       "      <td>NaN</td>\n",
       "      <td>NaN</td>\n",
       "    </tr>\n",
       "    <tr>\n",
       "      <th>25%</th>\n",
       "      <td>NaN</td>\n",
       "      <td>NaN</td>\n",
       "      <td>1.000000</td>\n",
       "      <td>1.000000</td>\n",
       "      <td>1.000000</td>\n",
       "      <td>1.267000</td>\n",
       "      <td>NaN</td>\n",
       "      <td>NaN</td>\n",
       "      <td>NaN</td>\n",
       "    </tr>\n",
       "    <tr>\n",
       "      <th>50%</th>\n",
       "      <td>NaN</td>\n",
       "      <td>NaN</td>\n",
       "      <td>3.000000</td>\n",
       "      <td>4.000000</td>\n",
       "      <td>1.000000</td>\n",
       "      <td>4.000000</td>\n",
       "      <td>NaN</td>\n",
       "      <td>NaN</td>\n",
       "      <td>NaN</td>\n",
       "    </tr>\n",
       "    <tr>\n",
       "      <th>75%</th>\n",
       "      <td>NaN</td>\n",
       "      <td>NaN</td>\n",
       "      <td>12.000000</td>\n",
       "      <td>23.500000</td>\n",
       "      <td>2.000000</td>\n",
       "      <td>38.500000</td>\n",
       "      <td>NaN</td>\n",
       "      <td>NaN</td>\n",
       "      <td>NaN</td>\n",
       "    </tr>\n",
       "    <tr>\n",
       "      <th>max</th>\n",
       "      <td>NaN</td>\n",
       "      <td>NaN</td>\n",
       "      <td>746.000000</td>\n",
       "      <td>584.000000</td>\n",
       "      <td>11.000000</td>\n",
       "      <td>1598.000000</td>\n",
       "      <td>NaN</td>\n",
       "      <td>NaN</td>\n",
       "      <td>NaN</td>\n",
       "    </tr>\n",
       "  </tbody>\n",
       "</table>\n",
       "</div>"
      ],
      "text/plain": [
       "              author       identity  work_count  record_count   languages  \\\n",
       "count            591            463  463.000000    463.000000  463.000000   \n",
       "unique           398            427         NaN           NaN         NaN   \n",
       "top     Paul Wouters  Wouters, Paul         NaN           NaN         NaN   \n",
       "freq              11              7         NaN           NaN         NaN   \n",
       "mean             NaN            NaN   12.827214     25.863562    1.602592   \n",
       "std              NaN            NaN   40.242290     58.767806    1.125152   \n",
       "min              NaN            NaN    1.000000      1.000000    0.000000   \n",
       "25%              NaN            NaN    1.000000      1.000000    1.000000   \n",
       "50%              NaN            NaN    3.000000      4.000000    1.000000   \n",
       "75%              NaN            NaN   12.000000     23.500000    2.000000   \n",
       "max              NaN            NaN  746.000000    584.000000   11.000000   \n",
       "\n",
       "        total_holdings                author_id source duplicated  \n",
       "count       463.000000                      463    463        463  \n",
       "unique             NaN                      461      2          2  \n",
       "top                NaN  np-khaparde,%20vaishali    Web       True  \n",
       "freq               NaN                        2    242        305  \n",
       "mean         68.199927                      NaN    NaN        NaN  \n",
       "std         166.065061                      NaN    NaN        NaN  \n",
       "min           0.000000                      NaN    NaN        NaN  \n",
       "25%           1.267000                      NaN    NaN        NaN  \n",
       "50%           4.000000                      NaN    NaN        NaN  \n",
       "75%          38.500000                      NaN    NaN        NaN  \n",
       "max        1598.000000                      NaN    NaN        NaN  "
      ]
     },
     "execution_count": 6,
     "metadata": {},
     "output_type": "execute_result"
    }
   ],
   "source": [
    "fixed_authors.describe(include='all')"
   ]
  },
  {
   "cell_type": "markdown",
   "metadata": {},
   "source": [
    "#### Data filtering\n",
    "There are a total of 128 authors not listed in WorldCat Identities. Therefore, in total we have 463 author records, 270 of which are unique authors. There are 114 authors with more than one record, and 156 with more than one."
   ]
  },
  {
   "cell_type": "code",
   "execution_count": 7,
   "metadata": {},
   "outputs": [
    {
     "name": "stdout",
     "output_type": "stream",
     "text": [
      "author         0\n",
      "identity     128\n",
      "author_id    128\n",
      "dtype: int64\n"
     ]
    }
   ],
   "source": [
    "fixed_authors = fixed_authors[['author', 'identity', 'author_id']] # or fixed_authors.loc[:, [['author', 'identity', 'author_id']]]\n",
    "print(fixed_authors.isna().sum())"
   ]
  },
  {
   "cell_type": "code",
   "execution_count": 8,
   "metadata": {},
   "outputs": [
    {
     "data": {
      "text/html": [
       "<div>\n",
       "<style scoped>\n",
       "    .dataframe tbody tr th:only-of-type {\n",
       "        vertical-align: middle;\n",
       "    }\n",
       "\n",
       "    .dataframe tbody tr th {\n",
       "        vertical-align: top;\n",
       "    }\n",
       "\n",
       "    .dataframe thead th {\n",
       "        text-align: right;\n",
       "    }\n",
       "</style>\n",
       "<table border=\"1\" class=\"dataframe\">\n",
       "  <thead>\n",
       "    <tr style=\"text-align: right;\">\n",
       "      <th></th>\n",
       "      <th>author</th>\n",
       "      <th>identity</th>\n",
       "      <th>author_id</th>\n",
       "    </tr>\n",
       "  </thead>\n",
       "  <tbody>\n",
       "    <tr>\n",
       "      <th>0</th>\n",
       "      <td>Loet Leydesdorff</td>\n",
       "      <td>Leydesdorff, L. A.</td>\n",
       "      <td>lccn-n80112847</td>\n",
       "    </tr>\n",
       "    <tr>\n",
       "      <th>1</th>\n",
       "      <td>Loet Leydesdorff</td>\n",
       "      <td>Lydsdorff, Loet</td>\n",
       "      <td>np-lydsdorff,%20loet</td>\n",
       "    </tr>\n",
       "    <tr>\n",
       "      <th>2</th>\n",
       "      <td>Eugene Garfield*</td>\n",
       "      <td>Garfield, Eugene</td>\n",
       "      <td>lccn-n79061047</td>\n",
       "    </tr>\n",
       "    <tr>\n",
       "      <th>3</th>\n",
       "      <td>Eugene Garfield*</td>\n",
       "      <td>Garfield, Eugen</td>\n",
       "      <td>np-garfield,%20eugen</td>\n",
       "    </tr>\n",
       "    <tr>\n",
       "      <th>4</th>\n",
       "      <td>Mike Thelwall</td>\n",
       "      <td>Thelwall, Mike</td>\n",
       "      <td>lccn-no2005014137</td>\n",
       "    </tr>\n",
       "    <tr>\n",
       "      <th>...</th>\n",
       "      <td>...</td>\n",
       "      <td>...</td>\n",
       "      <td>...</td>\n",
       "    </tr>\n",
       "    <tr>\n",
       "      <th>458</th>\n",
       "      <td>John Jeyasekar Jesubright</td>\n",
       "      <td>Jeyasekar, J. John 1965-</td>\n",
       "      <td>lccn-n2017033557</td>\n",
       "    </tr>\n",
       "    <tr>\n",
       "      <th>459</th>\n",
       "      <td>Adèle Paul-Hus</td>\n",
       "      <td>Paul-Hus, Adèle</td>\n",
       "      <td>np-paul%20hus,%20adele</td>\n",
       "    </tr>\n",
       "    <tr>\n",
       "      <th>460</th>\n",
       "      <td>Magdalena Bemke-Świtilnik</td>\n",
       "      <td>Bemke-Świtilnik, Magdalena</td>\n",
       "      <td>viaf-280144782722013431396</td>\n",
       "    </tr>\n",
       "    <tr>\n",
       "      <th>461</th>\n",
       "      <td>Vaishali Khaparde</td>\n",
       "      <td>Khaparde, Vaishali</td>\n",
       "      <td>np-khaparde,%20vaishali</td>\n",
       "    </tr>\n",
       "    <tr>\n",
       "      <th>462</th>\n",
       "      <td>Vaishali Khaparde</td>\n",
       "      <td>Khaparde, Vaishali S.</td>\n",
       "      <td>np-khaparde,%20vaishali%20s</td>\n",
       "    </tr>\n",
       "  </tbody>\n",
       "</table>\n",
       "<p>463 rows × 3 columns</p>\n",
       "</div>"
      ],
      "text/plain": [
       "                        author                    identity  \\\n",
       "0             Loet Leydesdorff          Leydesdorff, L. A.   \n",
       "1             Loet Leydesdorff             Lydsdorff, Loet   \n",
       "2             Eugene Garfield*            Garfield, Eugene   \n",
       "3             Eugene Garfield*             Garfield, Eugen   \n",
       "4                Mike Thelwall              Thelwall, Mike   \n",
       "..                         ...                         ...   \n",
       "458  John Jeyasekar Jesubright    Jeyasekar, J. John 1965-   \n",
       "459             Adèle Paul-Hus             Paul-Hus, Adèle   \n",
       "460  Magdalena Bemke-Świtilnik  Bemke-Świtilnik, Magdalena   \n",
       "461          Vaishali Khaparde          Khaparde, Vaishali   \n",
       "462          Vaishali Khaparde       Khaparde, Vaishali S.   \n",
       "\n",
       "                       author_id  \n",
       "0                 lccn-n80112847  \n",
       "1           np-lydsdorff,%20loet  \n",
       "2                 lccn-n79061047  \n",
       "3           np-garfield,%20eugen  \n",
       "4              lccn-no2005014137  \n",
       "..                           ...  \n",
       "458             lccn-n2017033557  \n",
       "459       np-paul%20hus,%20adele  \n",
       "460   viaf-280144782722013431396  \n",
       "461      np-khaparde,%20vaishali  \n",
       "462  np-khaparde,%20vaishali%20s  \n",
       "\n",
       "[463 rows x 3 columns]"
      ]
     },
     "execution_count": 8,
     "metadata": {},
     "output_type": "execute_result"
    }
   ],
   "source": [
    "fixed_authors = fixed_authors.loc[fixed_authors['identity'].notnull()]\n",
    "fixed_authors.reset_index(inplace = True, drop = True)\n",
    "fixed_authors"
   ]
  },
  {
   "cell_type": "code",
   "execution_count": 9,
   "metadata": {},
   "outputs": [
    {
     "data": {
      "text/plain": [
       "270"
      ]
     },
     "execution_count": 9,
     "metadata": {},
     "output_type": "execute_result"
    }
   ],
   "source": [
    "len(set(fixed_authors['author']))"
   ]
  },
  {
   "cell_type": "code",
   "execution_count": 10,
   "metadata": {},
   "outputs": [
    {
     "data": {
      "text/plain": [
       "156"
      ]
     },
     "execution_count": 10,
     "metadata": {},
     "output_type": "execute_result"
    }
   ],
   "source": [
    "sum([not i for i in fixed_authors['author'].duplicated(keep=False).tolist()])"
   ]
  },
  {
   "cell_type": "markdown",
   "metadata": {},
   "source": [
    "Finally, once the authors listed in WorldCat Identities were identified, retrieval of information from their records was automated."
   ]
  },
  {
   "cell_type": "code",
   "execution_count": 11,
   "metadata": {},
   "outputs": [],
   "source": [
    "#du.download_uris(fixed_authors)"
   ]
  },
  {
   "cell_type": "markdown",
   "metadata": {},
   "source": [
    "### Data preprocessing\n",
    "Due to duplicate authors, it is necessary to aggregate all such records. Before performing this task and merging the different types of data (authors, works, Google Scholar citations...) they are imported and checked for errors.\n",
    "\n",
    "#### Authorities"
   ]
  },
  {
   "cell_type": "code",
   "execution_count": 12,
   "metadata": {},
   "outputs": [
    {
     "data": {
      "text/html": [
       "<div>\n",
       "<style scoped>\n",
       "    .dataframe tbody tr th:only-of-type {\n",
       "        vertical-align: middle;\n",
       "    }\n",
       "\n",
       "    .dataframe tbody tr th {\n",
       "        vertical-align: top;\n",
       "    }\n",
       "\n",
       "    .dataframe thead th {\n",
       "        text-align: right;\n",
       "    }\n",
       "</style>\n",
       "<table border=\"1\" class=\"dataframe\">\n",
       "  <thead>\n",
       "    <tr style=\"text-align: right;\">\n",
       "      <th></th>\n",
       "      <th>author</th>\n",
       "      <th>identity</th>\n",
       "      <th>languages</th>\n",
       "      <th>total_holdings</th>\n",
       "      <th>work_count</th>\n",
       "      <th>record_count</th>\n",
       "      <th>author_id</th>\n",
       "    </tr>\n",
       "  </thead>\n",
       "  <tbody>\n",
       "    <tr>\n",
       "      <th>0</th>\n",
       "      <td>Loet Leydesdorff</td>\n",
       "      <td>Leydesdorff, L. A.</td>\n",
       "      <td>5</td>\n",
       "      <td>1232</td>\n",
       "      <td>64</td>\n",
       "      <td>190</td>\n",
       "      <td>lccn-n80112847</td>\n",
       "    </tr>\n",
       "    <tr>\n",
       "      <th>1</th>\n",
       "      <td>Loet Leydesdorff</td>\n",
       "      <td>Lydsdorff, Loet</td>\n",
       "      <td>1</td>\n",
       "      <td>2</td>\n",
       "      <td>1</td>\n",
       "      <td>2</td>\n",
       "      <td>np-lydsdorff,%20loet</td>\n",
       "    </tr>\n",
       "    <tr>\n",
       "      <th>2</th>\n",
       "      <td>Eugene Garfield*</td>\n",
       "      <td>Garfield, Eugene</td>\n",
       "      <td>5</td>\n",
       "      <td>3399</td>\n",
       "      <td>147</td>\n",
       "      <td>447</td>\n",
       "      <td>lccn-n79061047</td>\n",
       "    </tr>\n",
       "    <tr>\n",
       "      <th>3</th>\n",
       "      <td>Eugene Garfield*</td>\n",
       "      <td>Garfield, Eugen</td>\n",
       "      <td>1</td>\n",
       "      <td>0</td>\n",
       "      <td>1</td>\n",
       "      <td>1</td>\n",
       "      <td>np-garfield,%20eugen</td>\n",
       "    </tr>\n",
       "    <tr>\n",
       "      <th>4</th>\n",
       "      <td>Mike Thelwall</td>\n",
       "      <td>Thelwall, Mike</td>\n",
       "      <td>4</td>\n",
       "      <td>1161</td>\n",
       "      <td>49</td>\n",
       "      <td>118</td>\n",
       "      <td>lccn-no2005014137</td>\n",
       "    </tr>\n",
       "  </tbody>\n",
       "</table>\n",
       "</div>"
      ],
      "text/plain": [
       "             author            identity  languages  total_holdings  \\\n",
       "0  Loet Leydesdorff  Leydesdorff, L. A.          5            1232   \n",
       "1  Loet Leydesdorff     Lydsdorff, Loet          1               2   \n",
       "2  Eugene Garfield*    Garfield, Eugene          5            3399   \n",
       "3  Eugene Garfield*     Garfield, Eugen          1               0   \n",
       "4     Mike Thelwall      Thelwall, Mike          4            1161   \n",
       "\n",
       "   work_count  record_count             author_id  \n",
       "0          64           190        lccn-n80112847  \n",
       "1           1             2  np-lydsdorff,%20loet  \n",
       "2         147           447        lccn-n79061047  \n",
       "3           1             1  np-garfield,%20eugen  \n",
       "4          49           118     lccn-no2005014137  "
      ]
     },
     "execution_count": 12,
     "metadata": {},
     "output_type": "execute_result"
    }
   ],
   "source": [
    "authors_data = pandas.read_csv('data/uri_worldcat_identities_author.tsv',\n",
    "                               sep = '\\t',\n",
    "                               na_values = 'NA')\n",
    "\n",
    "authors_data.head()"
   ]
  },
  {
   "cell_type": "code",
   "execution_count": 13,
   "metadata": {},
   "outputs": [
    {
     "data": {
      "text/plain": [
       "True"
      ]
     },
     "execution_count": 13,
     "metadata": {},
     "output_type": "execute_result"
    }
   ],
   "source": [
    "set(fixed_authors['author_id'].tolist()) == set(authors_data['author_id'].tolist())"
   ]
  },
  {
   "cell_type": "code",
   "execution_count": 14,
   "metadata": {},
   "outputs": [
    {
     "data": {
      "text/plain": [
       "True"
      ]
     },
     "execution_count": 14,
     "metadata": {},
     "output_type": "execute_result"
    }
   ],
   "source": [
    "set(authors_data['author_id'].tolist()) == set(fixed_authors['author_id'].tolist())"
   ]
  },
  {
   "cell_type": "markdown",
   "metadata": {},
   "source": [
    "#### Google Scholar\n",
    "Filter to only authors with works in WorldCat Identities."
   ]
  },
  {
   "cell_type": "code",
   "execution_count": 15,
   "metadata": {},
   "outputs": [
    {
     "data": {
      "text/html": [
       "<div>\n",
       "<style scoped>\n",
       "    .dataframe tbody tr th:only-of-type {\n",
       "        vertical-align: middle;\n",
       "    }\n",
       "\n",
       "    .dataframe tbody tr th {\n",
       "        vertical-align: top;\n",
       "    }\n",
       "\n",
       "    .dataframe thead th {\n",
       "        text-align: right;\n",
       "    }\n",
       "</style>\n",
       "<table border=\"1\" class=\"dataframe\">\n",
       "  <thead>\n",
       "    <tr style=\"text-align: right;\">\n",
       "      <th></th>\n",
       "      <th>Author</th>\n",
       "      <th>All</th>\n",
       "      <th>Since 2014</th>\n",
       "      <th>LC</th>\n",
       "      <th>User</th>\n",
       "    </tr>\n",
       "  </thead>\n",
       "  <tbody>\n",
       "    <tr>\n",
       "      <th>0</th>\n",
       "      <td>Loet Leydesdorff</td>\n",
       "      <td>49466</td>\n",
       "      <td>25909</td>\n",
       "      <td>Yes</td>\n",
       "      <td>ych9gNYAAAAJ</td>\n",
       "    </tr>\n",
       "    <tr>\n",
       "      <th>1</th>\n",
       "      <td>Eugene Garfield*</td>\n",
       "      <td>30681</td>\n",
       "      <td>9590</td>\n",
       "      <td>Yes</td>\n",
       "      <td>26U7IAEAAAAJ</td>\n",
       "    </tr>\n",
       "    <tr>\n",
       "      <th>2</th>\n",
       "      <td>Mike Thelwall</td>\n",
       "      <td>29666</td>\n",
       "      <td>18658</td>\n",
       "      <td>Yes</td>\n",
       "      <td>8jCKL1sAAAAJ</td>\n",
       "    </tr>\n",
       "    <tr>\n",
       "      <th>3</th>\n",
       "      <td>Derek J. de Solla Price</td>\n",
       "      <td>21002</td>\n",
       "      <td>5928</td>\n",
       "      <td>Yes</td>\n",
       "      <td>Ev26B2YAAAAJ</td>\n",
       "    </tr>\n",
       "    <tr>\n",
       "      <th>4</th>\n",
       "      <td>Francis Narin</td>\n",
       "      <td>15582</td>\n",
       "      <td>4433</td>\n",
       "      <td>Yes</td>\n",
       "      <td>ZZ56uad45oYC</td>\n",
       "    </tr>\n",
       "    <tr>\n",
       "      <th>...</th>\n",
       "      <td>...</td>\n",
       "      <td>...</td>\n",
       "      <td>...</td>\n",
       "      <td>...</td>\n",
       "      <td>...</td>\n",
       "    </tr>\n",
       "    <tr>\n",
       "      <th>392</th>\n",
       "      <td>Rouhallah Khademi</td>\n",
       "      <td>81</td>\n",
       "      <td>81</td>\n",
       "      <td>No</td>\n",
       "      <td>pUgDOmUAAAAJ</td>\n",
       "    </tr>\n",
       "    <tr>\n",
       "      <th>393</th>\n",
       "      <td>Saeed Roshani</td>\n",
       "      <td>15</td>\n",
       "      <td>15</td>\n",
       "      <td>No</td>\n",
       "      <td>Q46atc0AAAAJ</td>\n",
       "    </tr>\n",
       "    <tr>\n",
       "      <th>394</th>\n",
       "      <td>Alberto Ramos-Alonso</td>\n",
       "      <td>4</td>\n",
       "      <td>4</td>\n",
       "      <td>No</td>\n",
       "      <td>CVN6mUAAAAJ</td>\n",
       "    </tr>\n",
       "    <tr>\n",
       "      <th>395</th>\n",
       "      <td>Vaishali Khaparde</td>\n",
       "      <td>0</td>\n",
       "      <td>0</td>\n",
       "      <td>Yes</td>\n",
       "      <td>XPWareQAAAAJ</td>\n",
       "    </tr>\n",
       "    <tr>\n",
       "      <th>396</th>\n",
       "      <td>Jeyashree S</td>\n",
       "      <td>8</td>\n",
       "      <td>8</td>\n",
       "      <td>No</td>\n",
       "      <td>zzGa2LIAAAAJ</td>\n",
       "    </tr>\n",
       "  </tbody>\n",
       "</table>\n",
       "<p>397 rows × 5 columns</p>\n",
       "</div>"
      ],
      "text/plain": [
       "                      Author    All  Since 2014   LC          User\n",
       "0           Loet Leydesdorff  49466       25909  Yes  ych9gNYAAAAJ\n",
       "1           Eugene Garfield*  30681        9590  Yes  26U7IAEAAAAJ\n",
       "2              Mike Thelwall  29666       18658  Yes  8jCKL1sAAAAJ\n",
       "3    Derek J. de Solla Price  21002        5928  Yes  Ev26B2YAAAAJ\n",
       "4              Francis Narin  15582        4433  Yes  ZZ56uad45oYC\n",
       "..                       ...    ...         ...  ...           ...\n",
       "392        Rouhallah Khademi     81          81   No  pUgDOmUAAAAJ\n",
       "393            Saeed Roshani     15          15   No  Q46atc0AAAAJ\n",
       "394     Alberto Ramos-Alonso      4           4   No   CVN6mUAAAAJ\n",
       "395        Vaishali Khaparde      0           0  Yes  XPWareQAAAAJ\n",
       "396              Jeyashree S      8           8   No  zzGa2LIAAAAJ\n",
       "\n",
       "[397 rows x 5 columns]"
      ]
     },
     "execution_count": 15,
     "metadata": {},
     "output_type": "execute_result"
    }
   ],
   "source": [
    "google_scholar = pandas.read_csv('data/google_scholar.tsv',\n",
    "                                 sep = '\\t',\n",
    "                                 na_values = 'NA')\n",
    "google_scholar"
   ]
  },
  {
   "cell_type": "code",
   "execution_count": 16,
   "metadata": {},
   "outputs": [
    {
     "name": "stdout",
     "output_type": "stream",
     "text": [
      "<class 'pandas.core.frame.DataFrame'>\n",
      "Int64Index: 270 entries, 0 to 395\n",
      "Data columns (total 5 columns):\n",
      "Author        270 non-null object\n",
      "All           270 non-null int64\n",
      "Since 2014    270 non-null int64\n",
      "LC            270 non-null object\n",
      "User          270 non-null object\n",
      "dtypes: int64(2), object(3)\n",
      "memory usage: 12.7+ KB\n"
     ]
    }
   ],
   "source": [
    "google_scholar = google_scholar[google_scholar['LC']=='Yes']\n",
    "google_scholar.info()"
   ]
  },
  {
   "cell_type": "code",
   "execution_count": 17,
   "metadata": {},
   "outputs": [
    {
     "data": {
      "text/plain": [
       "True"
      ]
     },
     "execution_count": 17,
     "metadata": {},
     "output_type": "execute_result"
    }
   ],
   "source": [
    "set(google_scholar['Author'].tolist()) == set(authors_data['author'].tolist())"
   ]
  },
  {
   "cell_type": "code",
   "execution_count": 18,
   "metadata": {},
   "outputs": [
    {
     "data": {
      "text/plain": [
       "True"
      ]
     },
     "execution_count": 18,
     "metadata": {},
     "output_type": "execute_result"
    }
   ],
   "source": [
    "set(authors_data['author'].tolist()) == set(google_scholar['Author'].tolist())"
   ]
  },
  {
   "cell_type": "markdown",
   "metadata": {},
   "source": [
    "#### Languages\n",
    "In this case there are four missed authorities."
   ]
  },
  {
   "cell_type": "code",
   "execution_count": 19,
   "metadata": {},
   "outputs": [
    {
     "data": {
      "text/html": [
       "<div>\n",
       "<style scoped>\n",
       "    .dataframe tbody tr th:only-of-type {\n",
       "        vertical-align: middle;\n",
       "    }\n",
       "\n",
       "    .dataframe tbody tr th {\n",
       "        vertical-align: top;\n",
       "    }\n",
       "\n",
       "    .dataframe thead th {\n",
       "        text-align: right;\n",
       "    }\n",
       "</style>\n",
       "<table border=\"1\" class=\"dataframe\">\n",
       "  <thead>\n",
       "    <tr style=\"text-align: right;\">\n",
       "      <th></th>\n",
       "      <th>author</th>\n",
       "      <th>author_id</th>\n",
       "      <th>lang</th>\n",
       "      <th>count</th>\n",
       "    </tr>\n",
       "  </thead>\n",
       "  <tbody>\n",
       "    <tr>\n",
       "      <th>0</th>\n",
       "      <td>Loet Leydesdorff</td>\n",
       "      <td>lccn-n80112847</td>\n",
       "      <td>eng</td>\n",
       "      <td>120</td>\n",
       "    </tr>\n",
       "    <tr>\n",
       "      <th>1</th>\n",
       "      <td>Loet Leydesdorff</td>\n",
       "      <td>lccn-n80112847</td>\n",
       "      <td>dut</td>\n",
       "      <td>15</td>\n",
       "    </tr>\n",
       "    <tr>\n",
       "      <th>2</th>\n",
       "      <td>Loet Leydesdorff</td>\n",
       "      <td>lccn-n80112847</td>\n",
       "      <td>chi</td>\n",
       "      <td>3</td>\n",
       "    </tr>\n",
       "    <tr>\n",
       "      <th>3</th>\n",
       "      <td>Loet Leydesdorff</td>\n",
       "      <td>lccn-n80112847</td>\n",
       "      <td>ger</td>\n",
       "      <td>1</td>\n",
       "    </tr>\n",
       "    <tr>\n",
       "      <th>4</th>\n",
       "      <td>Loet Leydesdorff</td>\n",
       "      <td>lccn-n80112847</td>\n",
       "      <td>fre</td>\n",
       "      <td>1</td>\n",
       "    </tr>\n",
       "  </tbody>\n",
       "</table>\n",
       "</div>"
      ],
      "text/plain": [
       "             author       author_id lang  count\n",
       "0  Loet Leydesdorff  lccn-n80112847  eng    120\n",
       "1  Loet Leydesdorff  lccn-n80112847  dut     15\n",
       "2  Loet Leydesdorff  lccn-n80112847  chi      3\n",
       "3  Loet Leydesdorff  lccn-n80112847  ger      1\n",
       "4  Loet Leydesdorff  lccn-n80112847  fre      1"
      ]
     },
     "execution_count": 19,
     "metadata": {},
     "output_type": "execute_result"
    }
   ],
   "source": [
    "authors_langs = pandas.read_csv('data/uri_worldcat_identities_langs.tsv',\n",
    "                               sep = '\\t',\n",
    "                               na_values = 'NA')\n",
    "\n",
    "authors_langs.head()"
   ]
  },
  {
   "cell_type": "markdown",
   "metadata": {},
   "source": [
    "There are some lost authorities."
   ]
  },
  {
   "cell_type": "code",
   "execution_count": 20,
   "metadata": {},
   "outputs": [
    {
     "data": {
      "text/plain": [
       "False"
      ]
     },
     "execution_count": 20,
     "metadata": {},
     "output_type": "execute_result"
    }
   ],
   "source": [
    "set(fixed_authors['author_id'].tolist()) == set(authors_langs['author_id'].tolist())"
   ]
  },
  {
   "cell_type": "markdown",
   "metadata": {},
   "source": [
    "Four authorities have no information about language."
   ]
  },
  {
   "cell_type": "code",
   "execution_count": 21,
   "metadata": {},
   "outputs": [
    {
     "data": {
      "text/plain": [
       "['np-west,%20jevin',\n",
       " 'np-moravcsik,%20michael%20j%20ed',\n",
       " 'np-shelton,%20robert%20duane%201938',\n",
       " 'np-mukherjee,%20mohammad%20nazim%20bhaskar']"
      ]
     },
     "execution_count": 21,
     "metadata": {},
     "output_type": "execute_result"
    }
   ],
   "source": [
    "list(set(fixed_authors['author_id'].tolist()) - set(authors_langs['author_id'].tolist()))"
   ]
  },
  {
   "cell_type": "markdown",
   "metadata": {},
   "source": [
    "#### Works\n",
    "There is one authority problem related with \"about\" works."
   ]
  },
  {
   "cell_type": "code",
   "execution_count": 22,
   "metadata": {},
   "outputs": [
    {
     "data": {
      "text/html": [
       "<div>\n",
       "<style scoped>\n",
       "    .dataframe tbody tr th:only-of-type {\n",
       "        vertical-align: middle;\n",
       "    }\n",
       "\n",
       "    .dataframe tbody tr th {\n",
       "        vertical-align: top;\n",
       "    }\n",
       "\n",
       "    .dataframe thead th {\n",
       "        text-align: right;\n",
       "    }\n",
       "</style>\n",
       "<table border=\"1\" class=\"dataframe\">\n",
       "  <thead>\n",
       "    <tr style=\"text-align: right;\">\n",
       "      <th></th>\n",
       "      <th>author</th>\n",
       "      <th>author_id</th>\n",
       "      <th>title</th>\n",
       "      <th>lang</th>\n",
       "      <th>holdings</th>\n",
       "      <th>editions</th>\n",
       "      <th>type</th>\n",
       "    </tr>\n",
       "  </thead>\n",
       "  <tbody>\n",
       "    <tr>\n",
       "      <th>0</th>\n",
       "      <td>Loet Leydesdorff</td>\n",
       "      <td>lccn-n80112847</td>\n",
       "      <td>Evolutionary economics and chaos theory : new ...</td>\n",
       "      <td>1</td>\n",
       "      <td>332</td>\n",
       "      <td>21</td>\n",
       "      <td>book</td>\n",
       "    </tr>\n",
       "    <tr>\n",
       "      <th>1</th>\n",
       "      <td>Loet Leydesdorff</td>\n",
       "      <td>lccn-n80112847</td>\n",
       "      <td>Universities and the global knowledge economy ...</td>\n",
       "      <td>1</td>\n",
       "      <td>304</td>\n",
       "      <td>23</td>\n",
       "      <td>book</td>\n",
       "    </tr>\n",
       "    <tr>\n",
       "      <th>2</th>\n",
       "      <td>Loet Leydesdorff</td>\n",
       "      <td>lccn-n80112847</td>\n",
       "      <td>The challenge of scientometrics : the developm...</td>\n",
       "      <td>2</td>\n",
       "      <td>123</td>\n",
       "      <td>23</td>\n",
       "      <td>book</td>\n",
       "    </tr>\n",
       "    <tr>\n",
       "      <th>3</th>\n",
       "      <td>Loet Leydesdorff</td>\n",
       "      <td>lccn-n80112847</td>\n",
       "      <td>The knowledge based economy : modeled, measure...</td>\n",
       "      <td>1</td>\n",
       "      <td>101</td>\n",
       "      <td>12</td>\n",
       "      <td>book</td>\n",
       "    </tr>\n",
       "    <tr>\n",
       "      <th>4</th>\n",
       "      <td>Loet Leydesdorff</td>\n",
       "      <td>lccn-n80112847</td>\n",
       "      <td>A sociological theory of communication : the s...</td>\n",
       "      <td>1</td>\n",
       "      <td>78</td>\n",
       "      <td>14</td>\n",
       "      <td>book</td>\n",
       "    </tr>\n",
       "  </tbody>\n",
       "</table>\n",
       "</div>"
      ],
      "text/plain": [
       "             author       author_id  \\\n",
       "0  Loet Leydesdorff  lccn-n80112847   \n",
       "1  Loet Leydesdorff  lccn-n80112847   \n",
       "2  Loet Leydesdorff  lccn-n80112847   \n",
       "3  Loet Leydesdorff  lccn-n80112847   \n",
       "4  Loet Leydesdorff  lccn-n80112847   \n",
       "\n",
       "                                               title  lang  holdings  \\\n",
       "0  Evolutionary economics and chaos theory : new ...     1       332   \n",
       "1  Universities and the global knowledge economy ...     1       304   \n",
       "2  The challenge of scientometrics : the developm...     2       123   \n",
       "3  The knowledge based economy : modeled, measure...     1       101   \n",
       "4  A sociological theory of communication : the s...     1        78   \n",
       "\n",
       "   editions  type  \n",
       "0        21  book  \n",
       "1        23  book  \n",
       "2        23  book  \n",
       "3        12  book  \n",
       "4        14  book  "
      ]
     },
     "execution_count": 22,
     "metadata": {},
     "output_type": "execute_result"
    }
   ],
   "source": [
    "authors_works = pandas.read_csv('data/uri_worldcat_identities_works.tsv',\n",
    "                               sep = '\\t',\n",
    "                               na_values = 'NA')\n",
    "\n",
    "authors_works.head()"
   ]
  },
  {
   "cell_type": "markdown",
   "metadata": {},
   "source": [
    "As before, there are lost records."
   ]
  },
  {
   "cell_type": "code",
   "execution_count": 23,
   "metadata": {},
   "outputs": [
    {
     "data": {
      "text/plain": [
       "False"
      ]
     },
     "execution_count": 23,
     "metadata": {},
     "output_type": "execute_result"
    }
   ],
   "source": [
    "set(fixed_authors['author_id'].tolist()) == set(authors_works['author_id'].tolist())"
   ]
  },
  {
   "cell_type": "markdown",
   "metadata": {},
   "source": [
    "One record have no works by the author, only about."
   ]
  },
  {
   "cell_type": "code",
   "execution_count": 24,
   "metadata": {},
   "outputs": [
    {
     "data": {
      "text/plain": [
       "['np-hinze,%20sybil']"
      ]
     },
     "execution_count": 24,
     "metadata": {},
     "output_type": "execute_result"
    }
   ],
   "source": [
    "list(set(fixed_authors['author_id'].tolist()) - set(authors_works['author_id'].tolist()))"
   ]
  },
  {
   "cell_type": "markdown",
   "metadata": {},
   "source": [
    "## Data preprocessing \n",
    "### Authorities and Google Scholar\n",
    "Group authorities data and merge with Google Scholar."
   ]
  },
  {
   "cell_type": "code",
   "execution_count": 25,
   "metadata": {},
   "outputs": [
    {
     "name": "stdout",
     "output_type": "stream",
     "text": [
      "<class 'pandas.core.frame.DataFrame'>\n",
      "RangeIndex: 270 entries, 0 to 269\n",
      "Data columns (total 4 columns):\n",
      "author            270 non-null object\n",
      "total_holdings    270 non-null int64\n",
      "work_count        270 non-null int64\n",
      "record_count      270 non-null int64\n",
      "dtypes: int64(3), object(1)\n",
      "memory usage: 8.6+ KB\n"
     ]
    }
   ],
   "source": [
    "authors_data_group = authors_data[['author', 'total_holdings', 'work_count', 'record_count']].groupby(['author']).sum().reset_index()\n",
    "#or\n",
    "#authors_data_group = authors_data[['author', 'total_holdings', 'work_count', 'record_count']].groupby(['author'], as_index=False).sum()\n",
    "authors_data_group.info()"
   ]
  },
  {
   "cell_type": "code",
   "execution_count": 26,
   "metadata": {},
   "outputs": [
    {
     "data": {
      "text/html": [
       "<div>\n",
       "<style scoped>\n",
       "    .dataframe tbody tr th:only-of-type {\n",
       "        vertical-align: middle;\n",
       "    }\n",
       "\n",
       "    .dataframe tbody tr th {\n",
       "        vertical-align: top;\n",
       "    }\n",
       "\n",
       "    .dataframe thead th {\n",
       "        text-align: right;\n",
       "    }\n",
       "</style>\n",
       "<table border=\"1\" class=\"dataframe\">\n",
       "  <thead>\n",
       "    <tr style=\"text-align: right;\">\n",
       "      <th></th>\n",
       "      <th>author</th>\n",
       "      <th>total_holdings</th>\n",
       "      <th>work_count</th>\n",
       "      <th>record_count</th>\n",
       "      <th>Author</th>\n",
       "      <th>All</th>\n",
       "      <th>Since 2014</th>\n",
       "      <th>User</th>\n",
       "    </tr>\n",
       "  </thead>\n",
       "  <tbody>\n",
       "    <tr>\n",
       "      <th>0</th>\n",
       "      <td>Adrián A. Díaz-Faes</td>\n",
       "      <td>2</td>\n",
       "      <td>2</td>\n",
       "      <td>2</td>\n",
       "      <td>Adrián A. Díaz-Faes</td>\n",
       "      <td>168</td>\n",
       "      <td>158</td>\n",
       "      <td>qbu_JY4AAAAJ</td>\n",
       "    </tr>\n",
       "    <tr>\n",
       "      <th>1</th>\n",
       "      <td>Adèle Paul-Hus</td>\n",
       "      <td>11</td>\n",
       "      <td>5</td>\n",
       "      <td>7</td>\n",
       "      <td>Adèle Paul-Hus</td>\n",
       "      <td>719</td>\n",
       "      <td>717</td>\n",
       "      <td>ZsZex3IAAAAJ</td>\n",
       "    </tr>\n",
       "    <tr>\n",
       "      <th>2</th>\n",
       "      <td>Alan Pritchard</td>\n",
       "      <td>2515</td>\n",
       "      <td>78</td>\n",
       "      <td>199</td>\n",
       "      <td>Alan Pritchard</td>\n",
       "      <td>2893</td>\n",
       "      <td>1596</td>\n",
       "      <td>quOCDDEAAAAJ</td>\n",
       "    </tr>\n",
       "    <tr>\n",
       "      <th>3</th>\n",
       "      <td>Alberto Martín-Martín</td>\n",
       "      <td>39</td>\n",
       "      <td>3</td>\n",
       "      <td>6</td>\n",
       "      <td>Alberto Martín-Martín</td>\n",
       "      <td>1060</td>\n",
       "      <td>1056</td>\n",
       "      <td>YlPd48UAAAAJ</td>\n",
       "    </tr>\n",
       "    <tr>\n",
       "      <th>4</th>\n",
       "      <td>Alesia Zuccala</td>\n",
       "      <td>12</td>\n",
       "      <td>4</td>\n",
       "      <td>6</td>\n",
       "      <td>Alesia Zuccala</td>\n",
       "      <td>1154</td>\n",
       "      <td>716</td>\n",
       "      <td>FubDq0QAAAAJ</td>\n",
       "    </tr>\n",
       "  </tbody>\n",
       "</table>\n",
       "</div>"
      ],
      "text/plain": [
       "                  author  total_holdings  work_count  record_count  \\\n",
       "0    Adrián A. Díaz-Faes               2           2             2   \n",
       "1         Adèle Paul-Hus              11           5             7   \n",
       "2         Alan Pritchard            2515          78           199   \n",
       "3  Alberto Martín-Martín              39           3             6   \n",
       "4         Alesia Zuccala              12           4             6   \n",
       "\n",
       "                  Author   All  Since 2014          User  \n",
       "0    Adrián A. Díaz-Faes   168         158  qbu_JY4AAAAJ  \n",
       "1         Adèle Paul-Hus   719         717  ZsZex3IAAAAJ  \n",
       "2         Alan Pritchard  2893        1596  quOCDDEAAAAJ  \n",
       "3  Alberto Martín-Martín  1060        1056  YlPd48UAAAAJ  \n",
       "4         Alesia Zuccala  1154         716  FubDq0QAAAAJ  "
      ]
     },
     "execution_count": 26,
     "metadata": {},
     "output_type": "execute_result"
    }
   ],
   "source": [
    "authors_gs=pandas.merge(left=authors_data_group, right=google_scholar[['Author', 'All', 'Since 2014', 'User']],\n",
    "               how='inner', left_on='author', right_on='Author')\n",
    "authors_gs.head()"
   ]
  },
  {
   "cell_type": "markdown",
   "metadata": {},
   "source": [
    "Delete duplicate author column."
   ]
  },
  {
   "cell_type": "code",
   "execution_count": 27,
   "metadata": {},
   "outputs": [],
   "source": [
    "authors_gs=authors_gs[['author', 'total_holdings', 'work_count', 'record_count', 'All', 'Since 2014', 'User']]"
   ]
  },
  {
   "cell_type": "code",
   "execution_count": 28,
   "metadata": {},
   "outputs": [
    {
     "data": {
      "application/vnd.jupyter.widget-view+json": {
       "model_id": "34256628c3fd4d16b1e52c55a7e505c2",
       "version_major": 2,
       "version_minor": 0
      },
      "text/plain": [
       "interactive(children=(Dropdown(description='column', options=('total_holdings', 'work_count', 'record_count', …"
      ]
     },
     "metadata": {},
     "output_type": "display_data"
    }
   ],
   "source": [
    "@interact\n",
    "\n",
    "def show_entities_more_than(column=['total_holdings', 'work_count', 'record_count', 'All', 'Since 2014'], value=widgets.IntSlider(min=0,max=authors_gs[['total_holdings', 'work_count', 'record_count', 'All', 'Since 2014']].values.max(),step=5,value=0)):\n",
    "    return authors_gs.loc[authors_gs[column] >= value].sort_values(by = [column], ascending = False)"
   ]
  },
  {
   "cell_type": "markdown",
   "metadata": {},
   "source": [
    "### Languages grouping"
   ]
  },
  {
   "cell_type": "code",
   "execution_count": 29,
   "metadata": {},
   "outputs": [
    {
     "name": "stdout",
     "output_type": "stream",
     "text": [
      "<class 'pandas.core.frame.DataFrame'>\n",
      "RangeIndex: 733 entries, 0 to 732\n",
      "Data columns (total 4 columns):\n",
      "author       733 non-null object\n",
      "author_id    733 non-null object\n",
      "lang         733 non-null object\n",
      "count        733 non-null int64\n",
      "dtypes: int64(1), object(3)\n",
      "memory usage: 23.0+ KB\n"
     ]
    },
    {
     "data": {
      "text/html": [
       "<div>\n",
       "<style scoped>\n",
       "    .dataframe tbody tr th:only-of-type {\n",
       "        vertical-align: middle;\n",
       "    }\n",
       "\n",
       "    .dataframe tbody tr th {\n",
       "        vertical-align: top;\n",
       "    }\n",
       "\n",
       "    .dataframe thead th {\n",
       "        text-align: right;\n",
       "    }\n",
       "</style>\n",
       "<table border=\"1\" class=\"dataframe\">\n",
       "  <thead>\n",
       "    <tr style=\"text-align: right;\">\n",
       "      <th></th>\n",
       "      <th>author</th>\n",
       "      <th>author_id</th>\n",
       "      <th>lang</th>\n",
       "      <th>count</th>\n",
       "    </tr>\n",
       "  </thead>\n",
       "  <tbody>\n",
       "    <tr>\n",
       "      <th>0</th>\n",
       "      <td>Loet Leydesdorff</td>\n",
       "      <td>lccn-n80112847</td>\n",
       "      <td>eng</td>\n",
       "      <td>120</td>\n",
       "    </tr>\n",
       "    <tr>\n",
       "      <th>1</th>\n",
       "      <td>Loet Leydesdorff</td>\n",
       "      <td>lccn-n80112847</td>\n",
       "      <td>dut</td>\n",
       "      <td>15</td>\n",
       "    </tr>\n",
       "    <tr>\n",
       "      <th>2</th>\n",
       "      <td>Loet Leydesdorff</td>\n",
       "      <td>lccn-n80112847</td>\n",
       "      <td>chi</td>\n",
       "      <td>3</td>\n",
       "    </tr>\n",
       "    <tr>\n",
       "      <th>3</th>\n",
       "      <td>Loet Leydesdorff</td>\n",
       "      <td>lccn-n80112847</td>\n",
       "      <td>ger</td>\n",
       "      <td>1</td>\n",
       "    </tr>\n",
       "    <tr>\n",
       "      <th>4</th>\n",
       "      <td>Loet Leydesdorff</td>\n",
       "      <td>lccn-n80112847</td>\n",
       "      <td>fre</td>\n",
       "      <td>1</td>\n",
       "    </tr>\n",
       "  </tbody>\n",
       "</table>\n",
       "</div>"
      ],
      "text/plain": [
       "             author       author_id lang  count\n",
       "0  Loet Leydesdorff  lccn-n80112847  eng    120\n",
       "1  Loet Leydesdorff  lccn-n80112847  dut     15\n",
       "2  Loet Leydesdorff  lccn-n80112847  chi      3\n",
       "3  Loet Leydesdorff  lccn-n80112847  ger      1\n",
       "4  Loet Leydesdorff  lccn-n80112847  fre      1"
      ]
     },
     "execution_count": 29,
     "metadata": {},
     "output_type": "execute_result"
    }
   ],
   "source": [
    "authors_langs.info()\n",
    "authors_langs.head()"
   ]
  },
  {
   "cell_type": "code",
   "execution_count": 30,
   "metadata": {},
   "outputs": [],
   "source": [
    "#pandas.merge(authors_langs, authors_data[['author', 'author_id']], on=['author_id'])"
   ]
  },
  {
   "cell_type": "code",
   "execution_count": 31,
   "metadata": {},
   "outputs": [
    {
     "data": {
      "text/html": [
       "<div>\n",
       "<style scoped>\n",
       "    .dataframe tbody tr th:only-of-type {\n",
       "        vertical-align: middle;\n",
       "    }\n",
       "\n",
       "    .dataframe tbody tr th {\n",
       "        vertical-align: top;\n",
       "    }\n",
       "\n",
       "    .dataframe thead th {\n",
       "        text-align: right;\n",
       "    }\n",
       "</style>\n",
       "<table border=\"1\" class=\"dataframe\">\n",
       "  <thead>\n",
       "    <tr style=\"text-align: right;\">\n",
       "      <th></th>\n",
       "      <th>author</th>\n",
       "      <th>lang</th>\n",
       "      <th>count</th>\n",
       "    </tr>\n",
       "  </thead>\n",
       "  <tbody>\n",
       "    <tr>\n",
       "      <th>0</th>\n",
       "      <td>Adrián A. Díaz-Faes</td>\n",
       "      <td>eng</td>\n",
       "      <td>1</td>\n",
       "    </tr>\n",
       "    <tr>\n",
       "      <th>1</th>\n",
       "      <td>Adrián A. Díaz-Faes</td>\n",
       "      <td>spa</td>\n",
       "      <td>1</td>\n",
       "    </tr>\n",
       "    <tr>\n",
       "      <th>2</th>\n",
       "      <td>Adèle Paul-Hus</td>\n",
       "      <td>eng</td>\n",
       "      <td>7</td>\n",
       "    </tr>\n",
       "    <tr>\n",
       "      <th>3</th>\n",
       "      <td>Alan Pritchard</td>\n",
       "      <td>eng</td>\n",
       "      <td>147</td>\n",
       "    </tr>\n",
       "    <tr>\n",
       "      <th>4</th>\n",
       "      <td>Alberto Martín-Martín</td>\n",
       "      <td>eng</td>\n",
       "      <td>2</td>\n",
       "    </tr>\n",
       "  </tbody>\n",
       "</table>\n",
       "</div>"
      ],
      "text/plain": [
       "                  author lang  count\n",
       "0    Adrián A. Díaz-Faes  eng      1\n",
       "1    Adrián A. Díaz-Faes  spa      1\n",
       "2         Adèle Paul-Hus  eng      7\n",
       "3         Alan Pritchard  eng    147\n",
       "4  Alberto Martín-Martín  eng      2"
      ]
     },
     "execution_count": 31,
     "metadata": {},
     "output_type": "execute_result"
    }
   ],
   "source": [
    "authors_langs_group = authors_langs[['author','lang','count']].groupby(['author','lang']).sum().reset_index()\n",
    "authors_langs_group.head()\n",
    "#authors_langs_group.head()\n",
    "#authors_langs_group.describe()\n",
    "#sum(authors_langs_group['count'].tolist()) / sum(authors_data_group['record_count'].tolist())\n",
    "#sum(authors_langs_group['count'].tolist()) / sum(authors_data_group['record_count'].tolist())\n",
    "#len(authors_works) / sum(authors_data_group['work_count'].tolist())"
   ]
  },
  {
   "cell_type": "markdown",
   "metadata": {},
   "source": [
    "Get total general languages and merge with authors."
   ]
  },
  {
   "cell_type": "code",
   "execution_count": 32,
   "metadata": {},
   "outputs": [
    {
     "name": "stdout",
     "output_type": "stream",
     "text": [
      "<class 'pandas.core.frame.DataFrame'>\n",
      "RangeIndex: 270 entries, 0 to 269\n",
      "Data columns (total 2 columns):\n",
      "author    270 non-null object\n",
      "lang      270 non-null int64\n",
      "dtypes: int64(1), object(1)\n",
      "memory usage: 4.3+ KB\n"
     ]
    }
   ],
   "source": [
    "authors_langs_unique = authors_langs_group.copy()\n",
    "authors_langs_unique['lang'] = 1\n",
    "authors_langs_unique = authors_langs_unique[['author','lang']].groupby(['author']).sum().reset_index()\n",
    "authors_langs_unique.info()"
   ]
  },
  {
   "cell_type": "code",
   "execution_count": 33,
   "metadata": {},
   "outputs": [
    {
     "data": {
      "text/plain": [
       "True"
      ]
     },
     "execution_count": 33,
     "metadata": {},
     "output_type": "execute_result"
    }
   ],
   "source": [
    "set(authors_langs_unique['author'].tolist()) == set(authors_gs['author'].tolist())"
   ]
  },
  {
   "cell_type": "code",
   "execution_count": 34,
   "metadata": {},
   "outputs": [
    {
     "data": {
      "text/plain": [
       "True"
      ]
     },
     "execution_count": 34,
     "metadata": {},
     "output_type": "execute_result"
    }
   ],
   "source": [
    "set(authors_gs['author'].tolist()) == set(authors_langs_unique['author'].tolist())"
   ]
  },
  {
   "cell_type": "code",
   "execution_count": 35,
   "metadata": {},
   "outputs": [
    {
     "data": {
      "text/html": [
       "<div>\n",
       "<style scoped>\n",
       "    .dataframe tbody tr th:only-of-type {\n",
       "        vertical-align: middle;\n",
       "    }\n",
       "\n",
       "    .dataframe tbody tr th {\n",
       "        vertical-align: top;\n",
       "    }\n",
       "\n",
       "    .dataframe thead th {\n",
       "        text-align: right;\n",
       "    }\n",
       "</style>\n",
       "<table border=\"1\" class=\"dataframe\">\n",
       "  <thead>\n",
       "    <tr style=\"text-align: right;\">\n",
       "      <th></th>\n",
       "      <th>author</th>\n",
       "      <th>total_holdings</th>\n",
       "      <th>work_count</th>\n",
       "      <th>record_count</th>\n",
       "      <th>All</th>\n",
       "      <th>Since 2014</th>\n",
       "      <th>User</th>\n",
       "      <th>lang</th>\n",
       "    </tr>\n",
       "  </thead>\n",
       "  <tbody>\n",
       "    <tr>\n",
       "      <th>0</th>\n",
       "      <td>Adrián A. Díaz-Faes</td>\n",
       "      <td>2</td>\n",
       "      <td>2</td>\n",
       "      <td>2</td>\n",
       "      <td>168</td>\n",
       "      <td>158</td>\n",
       "      <td>qbu_JY4AAAAJ</td>\n",
       "      <td>2</td>\n",
       "    </tr>\n",
       "    <tr>\n",
       "      <th>1</th>\n",
       "      <td>Adèle Paul-Hus</td>\n",
       "      <td>11</td>\n",
       "      <td>5</td>\n",
       "      <td>7</td>\n",
       "      <td>719</td>\n",
       "      <td>717</td>\n",
       "      <td>ZsZex3IAAAAJ</td>\n",
       "      <td>1</td>\n",
       "    </tr>\n",
       "    <tr>\n",
       "      <th>2</th>\n",
       "      <td>Alan Pritchard</td>\n",
       "      <td>2515</td>\n",
       "      <td>78</td>\n",
       "      <td>199</td>\n",
       "      <td>2893</td>\n",
       "      <td>1596</td>\n",
       "      <td>quOCDDEAAAAJ</td>\n",
       "      <td>1</td>\n",
       "    </tr>\n",
       "    <tr>\n",
       "      <th>3</th>\n",
       "      <td>Alberto Martín-Martín</td>\n",
       "      <td>39</td>\n",
       "      <td>3</td>\n",
       "      <td>6</td>\n",
       "      <td>1060</td>\n",
       "      <td>1056</td>\n",
       "      <td>YlPd48UAAAAJ</td>\n",
       "      <td>2</td>\n",
       "    </tr>\n",
       "    <tr>\n",
       "      <th>4</th>\n",
       "      <td>Alesia Zuccala</td>\n",
       "      <td>12</td>\n",
       "      <td>4</td>\n",
       "      <td>6</td>\n",
       "      <td>1154</td>\n",
       "      <td>716</td>\n",
       "      <td>FubDq0QAAAAJ</td>\n",
       "      <td>1</td>\n",
       "    </tr>\n",
       "  </tbody>\n",
       "</table>\n",
       "</div>"
      ],
      "text/plain": [
       "                  author  total_holdings  work_count  record_count   All  \\\n",
       "0    Adrián A. Díaz-Faes               2           2             2   168   \n",
       "1         Adèle Paul-Hus              11           5             7   719   \n",
       "2         Alan Pritchard            2515          78           199  2893   \n",
       "3  Alberto Martín-Martín              39           3             6  1060   \n",
       "4         Alesia Zuccala              12           4             6  1154   \n",
       "\n",
       "   Since 2014          User  lang  \n",
       "0         158  qbu_JY4AAAAJ     2  \n",
       "1         717  ZsZex3IAAAAJ     1  \n",
       "2        1596  quOCDDEAAAAJ     1  \n",
       "3        1056  YlPd48UAAAAJ     2  \n",
       "4         716  FubDq0QAAAAJ     1  "
      ]
     },
     "execution_count": 35,
     "metadata": {},
     "output_type": "execute_result"
    }
   ],
   "source": [
    "authors_gs=pandas.merge(left=authors_gs, right=authors_langs_unique,\n",
    "               how='inner', on='author')\n",
    "authors_gs.head()"
   ]
  },
  {
   "cell_type": "markdown",
   "metadata": {},
   "source": [
    "## Export data"
   ]
  },
  {
   "cell_type": "code",
   "execution_count": 36,
   "metadata": {},
   "outputs": [],
   "source": [
    "#authors_gs.to_csv('data/authorities_gs.tsv', sep='\\t', index_label=False, index=False)\n",
    "#authors_langs_group.to_csv('data/langs.tsv', sep='\\t', index_label=False, index=False)\n",
    "#authors_works.to_csv('data/works.tsv', sep='\\t', index_label=False, index=False)"
   ]
  },
  {
   "cell_type": "markdown",
   "metadata": {},
   "source": [
    "## Results"
   ]
  },
  {
   "cell_type": "markdown",
   "metadata": {},
   "source": [
    "### Authors"
   ]
  },
  {
   "cell_type": "code",
   "execution_count": 37,
   "metadata": {},
   "outputs": [
    {
     "data": {
      "text/html": [
       "<div>\n",
       "<style scoped>\n",
       "    .dataframe tbody tr th:only-of-type {\n",
       "        vertical-align: middle;\n",
       "    }\n",
       "\n",
       "    .dataframe tbody tr th {\n",
       "        vertical-align: top;\n",
       "    }\n",
       "\n",
       "    .dataframe thead th {\n",
       "        text-align: right;\n",
       "    }\n",
       "</style>\n",
       "<table border=\"1\" class=\"dataframe\">\n",
       "  <thead>\n",
       "    <tr style=\"text-align: right;\">\n",
       "      <th></th>\n",
       "      <th>total_holdings</th>\n",
       "      <th>work_count</th>\n",
       "      <th>record_count</th>\n",
       "      <th>All</th>\n",
       "      <th>Since 2014</th>\n",
       "      <th>lang</th>\n",
       "    </tr>\n",
       "  </thead>\n",
       "  <tbody>\n",
       "    <tr>\n",
       "      <th>count</th>\n",
       "      <td>270.00</td>\n",
       "      <td>270.00</td>\n",
       "      <td>270.00</td>\n",
       "      <td>270.00</td>\n",
       "      <td>270.00</td>\n",
       "      <td>270.00</td>\n",
       "    </tr>\n",
       "    <tr>\n",
       "      <th>mean</th>\n",
       "      <td>522.37</td>\n",
       "      <td>22.00</td>\n",
       "      <td>51.15</td>\n",
       "      <td>3148.86</td>\n",
       "      <td>1634.15</td>\n",
       "      <td>1.92</td>\n",
       "    </tr>\n",
       "    <tr>\n",
       "      <th>std</th>\n",
       "      <td>1134.23</td>\n",
       "      <td>52.95</td>\n",
       "      <td>133.57</td>\n",
       "      <td>5236.08</td>\n",
       "      <td>2627.08</td>\n",
       "      <td>1.32</td>\n",
       "    </tr>\n",
       "    <tr>\n",
       "      <th>min</th>\n",
       "      <td>0.00</td>\n",
       "      <td>1.00</td>\n",
       "      <td>1.00</td>\n",
       "      <td>0.00</td>\n",
       "      <td>0.00</td>\n",
       "      <td>1.00</td>\n",
       "    </tr>\n",
       "    <tr>\n",
       "      <th>25%</th>\n",
       "      <td>5.00</td>\n",
       "      <td>3.00</td>\n",
       "      <td>3.00</td>\n",
       "      <td>398.25</td>\n",
       "      <td>247.50</td>\n",
       "      <td>1.00</td>\n",
       "    </tr>\n",
       "    <tr>\n",
       "      <th>50%</th>\n",
       "      <td>51.50</td>\n",
       "      <td>8.00</td>\n",
       "      <td>14.50</td>\n",
       "      <td>1190.00</td>\n",
       "      <td>722.00</td>\n",
       "      <td>2.00</td>\n",
       "    </tr>\n",
       "    <tr>\n",
       "      <th>75%</th>\n",
       "      <td>434.75</td>\n",
       "      <td>25.00</td>\n",
       "      <td>56.00</td>\n",
       "      <td>3751.25</td>\n",
       "      <td>1978.25</td>\n",
       "      <td>2.00</td>\n",
       "    </tr>\n",
       "    <tr>\n",
       "      <th>max</th>\n",
       "      <td>7157.00</td>\n",
       "      <td>753.00</td>\n",
       "      <td>1839.00</td>\n",
       "      <td>49466.00</td>\n",
       "      <td>25909.00</td>\n",
       "      <td>11.00</td>\n",
       "    </tr>\n",
       "  </tbody>\n",
       "</table>\n",
       "</div>"
      ],
      "text/plain": [
       "       total_holdings  work_count  record_count       All  Since 2014    lang\n",
       "count          270.00      270.00        270.00    270.00      270.00  270.00\n",
       "mean           522.37       22.00         51.15   3148.86     1634.15    1.92\n",
       "std           1134.23       52.95        133.57   5236.08     2627.08    1.32\n",
       "min              0.00        1.00          1.00      0.00        0.00    1.00\n",
       "25%              5.00        3.00          3.00    398.25      247.50    1.00\n",
       "50%             51.50        8.00         14.50   1190.00      722.00    2.00\n",
       "75%            434.75       25.00         56.00   3751.25     1978.25    2.00\n",
       "max           7157.00      753.00       1839.00  49466.00    25909.00   11.00"
      ]
     },
     "execution_count": 37,
     "metadata": {},
     "output_type": "execute_result"
    }
   ],
   "source": [
    "authors_gs.describe().round(2)"
   ]
  },
  {
   "cell_type": "code",
   "execution_count": 38,
   "metadata": {},
   "outputs": [
    {
     "data": {
      "application/vnd.jupyter.widget-view+json": {
       "model_id": "67d7cc3b09fe4dfba33c574bb2ec8520",
       "version_major": 2,
       "version_minor": 0
      },
      "text/plain": [
       "interactive(children=(Dropdown(description='column', options=('total_holdings', 'work_count', 'record_count', …"
      ]
     },
     "metadata": {},
     "output_type": "display_data"
    }
   ],
   "source": [
    "@interact\n",
    "\n",
    "def show_boxplot_more_than(column=['total_holdings', 'work_count', 'record_count', 'All', 'Since 2014']):\n",
    "    fig, ax = plt.subplots()\n",
    "    ax.set_title('Basic Plot')\n",
    "    ax.boxplot(authors_gs[column])\n",
    "    return plt.show()"
   ]
  }
 ],
 "metadata": {
  "kernelspec": {
   "display_name": "Python 3",
   "language": "python",
   "name": "python3"
  },
  "language_info": {
   "codemirror_mode": {
    "name": "ipython",
    "version": 3
   },
   "file_extension": ".py",
   "mimetype": "text/x-python",
   "name": "python",
   "nbconvert_exporter": "python",
   "pygments_lexer": "ipython3",
   "version": "3.7.4"
  }
 },
 "nbformat": 4,
 "nbformat_minor": 4
}
